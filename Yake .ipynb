{
 "cells": [
  {
   "cell_type": "code",
   "execution_count": null,
   "id": "3fe9e8b0",
   "metadata": {},
   "outputs": [],
   "source": [
    "\n"
   ]
  },
  {
   "cell_type": "code",
   "execution_count": null,
   "id": "545fe98b",
   "metadata": {},
   "outputs": [],
   "source": []
  },
  {
   "cell_type": "code",
   "execution_count": 15,
   "id": "2e4bda91",
   "metadata": {},
   "outputs": [],
   "source": [
    "import pandas as pd\n",
    "import yake\n",
    "\n",
    "df = pd.read_csv('sample data.csv')\n",
    "df = df[df['full_desc'] != \"[N/A]\"]\n",
    "\n",
    "df['yake_keywords'] = ''\n",
    "df['yake_keywords'] = df['yake_keywords'].astype(object)\n",
    "\n",
    "for index, row in df.iterrows():\n",
    "    text = row['full_desc']\n",
    "    language = \"en\"\n",
    "    max_ngram_size = 3\n",
    "    deduplication_thresold = 0.7\n",
    "    deduplication_algo = 'seqm'\n",
    "    windowSize = 1\n",
    "    numOfKeywords = 15\n",
    "    custom_kw_extractor = yake.KeywordExtractor(lan=language, n=max_ngram_size, dedupLim=deduplication_thresold, \n",
    "                                                dedupFunc=deduplication_algo, windowsSize=windowSize, top=numOfKeywords, \n",
    "                                                features=None)\n",
    "    keywords = custom_kw_extractor.extract_keywords(text)\n",
    "    df.at[index, 'yake_keywords'] = list(zip(*keywords))[0]\n",
    "\n",
    "#df.loc[:,['entity_name','yake_words']]\n",
    "\n",
    "df.to_excel('Yake_Output_Sample.xlsx', columns = ['entity_name', 'full_desc','generated_keywords','yake_keywords'])"
   ]
  },
  {
   "cell_type": "code",
   "execution_count": null,
   "id": "7962c107",
   "metadata": {},
   "outputs": [],
   "source": [
    "\n"
   ]
  },
  {
   "cell_type": "code",
   "execution_count": null,
   "id": "8044fcac",
   "metadata": {},
   "outputs": [],
   "source": []
  },
  {
   "cell_type": "code",
   "execution_count": null,
   "id": "2ff9167e",
   "metadata": {},
   "outputs": [],
   "source": []
  },
  {
   "cell_type": "code",
   "execution_count": null,
   "id": "48bef8e7",
   "metadata": {},
   "outputs": [],
   "source": []
  }
 ],
 "metadata": {
  "kernelspec": {
   "display_name": "Python 3 (ipykernel)",
   "language": "python",
   "name": "python3"
  },
  "language_info": {
   "codemirror_mode": {
    "name": "ipython",
    "version": 3
   },
   "file_extension": ".py",
   "mimetype": "text/x-python",
   "name": "python",
   "nbconvert_exporter": "python",
   "pygments_lexer": "ipython3",
   "version": "3.9.7"
  }
 },
 "nbformat": 4,
 "nbformat_minor": 5
}
